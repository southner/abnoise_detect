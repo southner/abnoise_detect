{
 "cells": [
  {
   "cell_type": "code",
   "execution_count": 24,
   "metadata": {},
   "outputs": [],
   "source": [
    "import os\n",
    "import glob\n",
    "import sys\n",
    "\n",
    "import common as com\n",
    "import numpy\n",
    "import tqdm\n",
    "import sklearn\n",
    "import torch\n",
    "from train import list_to_vector_array\n",
    "from train import file_list_generator\n",
    "from train import AutoEncoder\n",
    "from train import fetch_dataloaders\n",
    "import torch.nn as nn"
   ]
  },
  {
   "cell_type": "code",
   "execution_count": 25,
   "metadata": {},
   "outputs": [],
   "source": [
    "########################################################################\n",
    "# visualizer\n",
    "########################################################################\n",
    "class Visualizer(object):\n",
    "    def __init__(self):\n",
    "        import matplotlib.pyplot as plt\n",
    "        self.plt = plt\n",
    "        self.fig = self.plt.figure(figsize=(30, 10))\n",
    "        self.plt.subplots_adjust(wspace=0.3, hspace=0.3)\n",
    "\n",
    "    def loss_plot(self, loss):\n",
    "        \"\"\"\n",
    "        Plot loss curve.\n",
    "        loss : list [ float ]\n",
    "            training loss time series.\n",
    "        val_loss : list [ float ]\n",
    "            validation loss time series.\n",
    "        return   : None\n",
    "        \"\"\"\n",
    "        ax = self.fig.add_subplot(1, 1, 1)\n",
    "        ax.cla()\n",
    "        ax.plot(loss)\n",
    "        #设置y轴范围\n",
    "        #self.plt.ylim(-5,100)\n",
    "        ax.set_title(\"batch loss\")\n",
    "        ax.set_xlabel(\"batch\")\n",
    "        ax.set_ylabel(\"Loss\")\n",
    "        ax.legend([\"Train\", \"Validation\"], loc=\"upper right\")\n",
    "\n",
    "    def save_figure(self, name):\n",
    "        \"\"\"\n",
    "        Save figure.\n",
    "        name : str\n",
    "            save png file path.\n",
    "        return : None\n",
    "        \"\"\"\n",
    "        self.plt.savefig(name)\n",
    "\n",
    "\n",
    "########################################################################\n"
   ]
  },
  {
   "cell_type": "code",
   "execution_count": 26,
   "metadata": {},
   "outputs": [
    {
     "name": "stderr",
     "output_type": "stream",
     "text": [
      "2021-10-21 09:57:20,509 - INFO - target_dir : ../file/noise_detect\n",
      "2021-10-21 09:57:20,512 - INFO - train_file num : 200\n",
      "2021-10-21 09:57:20,513 - INFO - files num 200\n",
      "generate train_dataset: 100%|██████████| 200/200 [00:09<00:00, 19.69it/s]\n",
      "2021-10-21 09:57:30,441 - INFO - train_data num 1400\n",
      "2021-10-21 09:57:30,673 - INFO - target_dir : ../file/noise_detect\n",
      "2021-10-21 09:57:30,675 - INFO - train_file num : 4\n",
      "2021-10-21 09:57:30,676 - INFO - files num 4\n",
      "generate train_dataset: 100%|██████████| 4/4 [00:00<00:00, 19.59it/s]\n",
      "2021-10-21 09:57:30,883 - INFO - train_data num 28\n",
      "2021-10-21 09:57:30,896 - INFO - target_dir : ../file/noise_detect\n",
      "2021-10-21 09:57:30,897 - INFO - train_file num : 44\n",
      "2021-10-21 09:57:30,898 - INFO - files num 44\n",
      "generate train_dataset: 100%|██████████| 44/44 [00:02<00:00, 20.20it/s]\n",
      "2021-10-21 09:57:33,079 - INFO - train_data num 308\n"
     ]
    }
   ],
   "source": [
    "param = com.yaml_load()\n",
    "def test(dir,save):\n",
    "    ab_dir = '../file/noise_detect'\n",
    "    ab_files = file_list_generator(ab_dir, dir_name=dir)\n",
    "    com.logger.info('files num {num}'.format(num=len(ab_files)))\n",
    "    ab_data = list_to_vector_array(ab_files,\n",
    "                                      msg=\"generate train_dataset\",\n",
    "                                      n_mels=param[\"feature\"][\"n_mels\"],\n",
    "                                      frames=param[\"feature\"][\"frames\"],\n",
    "                                      n_fft=param[\"feature\"][\"n_fft\"],\n",
    "                                      hop_length=param[\"feature\"][\"hop_length\"],\n",
    "                                      power=param[\"feature\"][\"power\"])\n",
    "    ab_data = torch.Tensor(ab_data)\n",
    "    com.logger.info('train_data num {num}'.format(num=len(ab_data)))\n",
    "    ab_loader = torch.utils.data.DataLoader(dataset=ab_data, batch_size=512, shuffle=True)\n",
    "    model = torch.load('model/model.pkl')\n",
    "    loss_func = nn.MSELoss()\n",
    "    features = []\n",
    "    losses = []\n",
    "    for data in ab_loader:\n",
    "        inumpyuts = data\n",
    "        feature, y = model(inumpyuts)\n",
    "        loss = loss_func(y, inumpyuts)\n",
    "        for one_feature in feature:\n",
    "            features.append(list(one_feature))\n",
    "        losses.append(loss)\n",
    "    #numpy.save('../file/noise_detect/feature/'+save,numpy.array(features))\n",
    "    return features,losses\n",
    "feature,feature_loss = test('train','feature')\n",
    "ab_feature,ab_loss = test('test/new_ab_one','abnormal_feature')\n",
    "normal_feature,normal_loss = test('test/normal','normal_feature')\n"
   ]
  },
  {
   "cell_type": "code",
   "execution_count": 27,
   "metadata": {},
   "outputs": [
    {
     "name": "stderr",
     "output_type": "stream",
     "text": [
      "2021-10-21 09:57:33,150 - INFO - target_dir : ../file/noise_detect\n",
      "2021-10-21 09:57:33,152 - INFO - train_file num : 1\n",
      "2021-10-21 09:57:33,153 - INFO - files num 1\n",
      "generate train_dataset: 100%|██████████| 1/1 [00:00<00:00, 18.50it/s]\n",
      "2021-10-21 09:57:33,221 - INFO - train_data num 7\n"
     ]
    }
   ],
   "source": [
    "# tt_f,tt_loss = test('tt','feature')"
   ]
  },
  {
   "cell_type": "code",
   "execution_count": 28,
   "metadata": {},
   "outputs": [
    {
     "name": "stderr",
     "output_type": "stream",
     "text": [
      "C:\\ZTTTX\\Programing\\Anaconda\\envs\\noise_detect\\lib\\site-packages\\ipykernel_launcher.py:20: MatplotlibDeprecationWarning: Adding an axes using the same arguments as a previous axes currently reuses the earlier instance.  In a future version, a new instance will always be created and returned.  Meanwhile, this warning can be suppressed, and the future behavior ensured, by passing a unique label to each axes instance.\n"
     ]
    }
   ],
   "source": [
    "# visualizer = Visualizer()\n",
    "# visualizer.loss_plot(ab_loss)\n",
    "# visualizer.save_figure('ab_loss.png')\n",
    "# visualizer.loss_plot(normal_loss)\n",
    "# visualizer.save_figure('normal_loss.png')"
   ]
  },
  {
   "cell_type": "code",
   "execution_count": 29,
   "metadata": {},
   "outputs": [],
   "source": [
    "# import numpy as numpy\n",
    "# import matplotlib.pyplot as plt\n",
    "# from sklearn.manifold import TSNE\n",
    "\n",
    "# def plot_embedding(data, label, title):\n",
    "#     x_min, x_max = numpy.min(data, 0), numpy.max(data, 0)\n",
    "#     data = (data - x_min) / (x_max - x_min)\n",
    "#     colors = {0:'r',1:'b'}\n",
    "#     fig = plt.figure()\n",
    "#     ax = plt.subplot(111)\n",
    "#     for i in range(data.shape[0]):\n",
    "#         plt.text(data[i, 0], data[i, 1], '.',\n",
    "#                  color=colors[int(label[i])],\n",
    "#                  fontdict={'weight': 'bold', 'size': 9})\n",
    "#     plt.xticks([])\n",
    "#     plt.yticks([])\n",
    "#     plt.title(title)\n",
    "#     return fig\n",
    "\n",
    "# tsne = TSNE(n_components=2, init='pca', random_state=0)\n",
    "\n",
    "\n"
   ]
  },
  {
   "cell_type": "code",
   "execution_count": null,
   "metadata": {},
   "outputs": [],
   "source": []
  },
  {
   "cell_type": "code",
   "execution_count": 30,
   "metadata": {},
   "outputs": [],
   "source": [
    "#部分降维\n",
    "# zero = torch.zeros(len(ab_feature))\n",
    "# one = torch.ones(len(normal_feature))\n",
    "# label = torch.cat((zero,one),0)\n",
    "# feature = ab_feature + normal_feature\n",
    "# print(len(feature))\n",
    "# print(len(label))\n",
    "# result = tsne.fit_transform(feature[:5000])\n",
    "# fig = plot_embedding(result[:5000], label[:5000],'distribution')\n",
    "# plt.show(fig)"
   ]
  },
  {
   "cell_type": "code",
   "execution_count": 31,
   "metadata": {},
   "outputs": [],
   "source": [
    "# result = tsne.fit_transform(feature)"
   ]
  },
  {
   "cell_type": "code",
   "execution_count": 32,
   "metadata": {},
   "outputs": [],
   "source": [
    "# fig = plot_embedding(result, label,'distribution')\n",
    "# plt.savefig('distribution_all.png')\n",
    "# plt.show(fig)"
   ]
  },
  {
   "cell_type": "code",
   "execution_count": 33,
   "metadata": {},
   "outputs": [],
   "source": [
    "# fig = plot_embedding(result[:5000], label[:5000],'distribution')\n",
    "# plt.savefig('distribution_all_5000.png')\n",
    "# plt.show(fig)"
   ]
  },
  {
   "cell_type": "code",
   "execution_count": 34,
   "metadata": {},
   "outputs": [],
   "source": [
    "def cosine_distance(matrix1,matrix2):\n",
    "    matrix1_matrix2 = numpy.dot(matrix1, matrix2.transpose())\n",
    "    matrix1_norm = numpy.sqrt(numpy.multiply(matrix1, matrix1).sum(axis=1))\n",
    "    matrix1_norm = matrix1_norm[:, numpy.newaxis]\n",
    "    matrix2_norm = numpy.sqrt(numpy.multiply(matrix2, matrix2).sum(axis=1))\n",
    "    matrix2_norm = matrix2_norm[:, numpy.newaxis]\n",
    "    cosine_distance = numpy.divide(matrix1_matrix2, numpy.dot(matrix1_norm, matrix2_norm.transpose()))\n",
    "    return cosine_distance"
   ]
  },
  {
   "cell_type": "code",
   "execution_count": 35,
   "metadata": {},
   "outputs": [],
   "source": [
    "feature = numpy.array(feature,dtype='float64')\n",
    "ab_feature = numpy.array(ab_feature,dtype='float64')\n",
    "normal_feature = numpy.array(normal_feature,dtype='float64')\n",
    "ab_distance = cosine_distance(ab_feature,feature)\n",
    "normal_distance = cosine_distance(normal_feature,feature)\n"
   ]
  },
  {
   "cell_type": "code",
   "execution_count": 36,
   "metadata": {},
   "outputs": [
    {
     "name": "stdout",
     "output_type": "stream",
     "text": [
      "(1400, 32)\n",
      "(308, 32)\n",
      "(28, 32)\n",
      "(28, 1400)\n",
      "(308, 1400)\n"
     ]
    }
   ],
   "source": [
    "print(feature.shape)\n",
    "print(normal_feature.shape)\n",
    "print(ab_feature.shape)\n",
    "\n",
    "print(ab_distance.shape)\n",
    "print(normal_distance.shape)"
   ]
  },
  {
   "cell_type": "code",
   "execution_count": 37,
   "metadata": {},
   "outputs": [
    {
     "data": {
      "text/plain": [
       "array([[ 0.44317782,  0.29459312,  0.09158826, -0.13596385,  0.28380604,\n",
       "         0.91464049,  0.08056767,  0.28606324,  0.69717832,  0.09035471,\n",
       "         0.26422342],\n",
       "       [ 0.19469783,  0.75608974,  0.43469238, -0.20724066,  0.85533556,\n",
       "         0.58390407,  0.38582944,  0.75166098,  0.24561302,  0.36303893,\n",
       "         0.80491971]])"
      ]
     },
     "execution_count": 37,
     "metadata": {},
     "output_type": "execute_result"
    }
   ],
   "source": [
    "cosine_distance(normal_feature[0:2],feature[488:499])"
   ]
  },
  {
   "cell_type": "code",
   "execution_count": 38,
   "metadata": {},
   "outputs": [
    {
     "name": "stdout",
     "output_type": "stream",
     "text": [
      "[1370 1104 1271 1088 1315  843  947 1136  479   11 1211    8 1155  947\n",
      " 1315 1177  240   11  779   11 1263 1088   11  816  151 1123 1370   41]\n",
      "[ 359   15 1344 1080 1039  372  389 1376  322  728   69 1105 1144 1203\n",
      "  605   13 1263   18 1272 1242  649  253   15 1195  297  384  878   54\n",
      "  202  728 1376   15 1105  253  741 1195 1195 1376 1376  557  570 1370\n",
      " 1195 1376 1303 1391 1395 1105   20 1257 1209   20 1095 1146  404  711\n",
      " 1111   13 1195   13 1391 1344 1024  504 1376   15 1176 1391  553 1179\n",
      " 1146  545  220 1263  244 1028  202  203 1195  612  225  965  507 1066\n",
      "  253 1141 1391  848 1274  102  915  253 1144 1276   15 1211 1292  788\n",
      " 1265  832   69  244 1198 1030  914  384 1101  718  599 1344 1088 1211\n",
      " 1005  402  852   54 1256  519   76  757  969  507  895 1350 1350 1168\n",
      " 1136 1088 1273  757 1198  219 1344  814  658 1144 1080  612  757 1370\n",
      "  569 1361  569 1263  253 1198 1099 1144 1197 1230  273  711   13  219\n",
      "  757  796  262  757  649 1141  652  668 1292  885 1391 1266 1391  219\n",
      "   55  607  277  878  165  273 1144 1111 1144 1101  896 1198  384  741\n",
      "   82  255  841  852 1266 1053 1105  225  364 1376 1030  605 1141 1088\n",
      " 1198  649  649  741  896  757  807 1005 1376 1212 1198  166  412 1230\n",
      " 1197 1198  501   54  878  757 1088  427  686  791  253  814  845 1198\n",
      "   45 1142  757  185  493 1080  478 1238 1292   15 1195  776 1028 1080\n",
      " 1198 1105 1376  674  878  658  299  164  757  184 1111 1198  326   15\n",
      "  605  366  649  145 1344  718  247  135  563 1088  253  102 1021  674\n",
      " 1142 1136 1080  597 1101 1376  612 1272 1145  895 1212  685  783  652\n",
      "  728  240  852  412  757  658 1391 1024   13  493  783 1088 1105 1136\n",
      "  244  757  652 1315 1080 1195  407 1265  649   15 1376 1195  336 1292]\n"
     ]
    }
   ],
   "source": [
    "print(ab_distance.argmax(axis=1))\n",
    "print(normal_distance.argmax(axis=1))"
   ]
  },
  {
   "cell_type": "code",
   "execution_count": 39,
   "metadata": {},
   "outputs": [],
   "source": [
    "part_feature = numpy.array(feature[:100],dtype='float64')\n",
    "part_ab_feature = numpy.array(ab_feature[:100],dtype='float64')\n",
    "part_normal_feature = numpy.array(normal_feature[:100],dtype='float64')\n",
    "part_ab_distance = cosine_distance(part_ab_feature,numpy.array(part_feature,dtype='float64'))\n",
    "part_normal_distance = cosine_distance(part_normal_feature,numpy.array(part_feature,dtype='float64'))\n",
    "\n"
   ]
  },
  {
   "cell_type": "code",
   "execution_count": 40,
   "metadata": {},
   "outputs": [],
   "source": [
    "numpy.save('../file/noise_detect/cos/ab_data',ab_distance)\n",
    "numpy.save('../file/noise_detect/cos/normal_data',normal_distance)"
   ]
  },
  {
   "cell_type": "code",
   "execution_count": 41,
   "metadata": {},
   "outputs": [
    {
     "name": "stdout",
     "output_type": "stream",
     "text": [
      "[0.97327097 0.97990961 0.97834236 0.95460326 0.98811663 0.87681265\n",
      " 0.97126577 0.90624678 0.90922562 0.98712226 0.96172114 0.98729135\n",
      " 0.97456601 0.96367927 0.97870143 0.977889   0.84875503 0.98640798\n",
      " 0.96542398 0.98659557 0.94537788 0.93273824 0.98675621 0.95649165\n",
      " 0.9887506  0.9441944  0.98031205 0.93925869]\n",
      "[0.98688997 0.98436373 0.93883392 0.96229372 0.99445022 0.94896453\n",
      " 0.97101832 0.98034578 0.93581122 0.97338136 0.90831287 0.99078522\n",
      " 0.97491246 0.89692806 0.83374051 0.98625147 0.99054283 0.97986481\n",
      " 0.98305101 0.98330569 0.99243789 0.98502087 0.99191171 0.90996736\n",
      " 0.95854108 0.98907144 0.9816777  0.91783072 0.9059904  0.96582991\n",
      " 0.98393325 0.98482984 0.99393884 0.98795669 0.98686969 0.89922571\n",
      " 0.90367845 0.98230418 0.98315021 0.91022862 0.81649571 0.95051475\n",
      " 0.90374881 0.98971912 0.89075358 0.96750618 0.99090481 0.9882322\n",
      " 0.98551496 0.98717353 0.91429393 0.98882004 0.98853296 0.98769414\n",
      " 0.9671131  0.97812642 0.99546374 0.98919268 0.93101808 0.98880896\n",
      " 0.97509309 0.95679672 0.97475493 0.96006067 0.98445455 0.94608791\n",
      " 0.96992549 0.97788338 0.94855009 0.98382068 0.96883851 0.97573351\n",
      " 0.97821671 0.99132604 0.97977576 0.99624147 0.9378092  0.99472149\n",
      " 0.92857192 0.98255504 0.99186715 0.97847451 0.99424775 0.99207947\n",
      " 0.9902074  0.95721338 0.96797408 0.97506407 0.99380743 0.9918773\n",
      " 0.98755867 0.9855461  0.98800231 0.98945778 0.9870274  0.98956712\n",
      " 0.98680249 0.96646634 0.91151901 0.97203815 0.89832288 0.97850014\n",
      " 0.96910706 0.99091219 0.93370062 0.91177453 0.89574716 0.89592536\n",
      " 0.96035436 0.94007595 0.96833747 0.98020265 0.89910345 0.99590702\n",
      " 0.89906782 0.9372515  0.88337826 0.98531534 0.98827148 0.96790933\n",
      " 0.73985065 0.99478419 0.98203402 0.99270891 0.99113965 0.99305951\n",
      " 0.9501798  0.97118627 0.99693831 0.98972566 0.9490951  0.92414881\n",
      " 0.97017925 0.9598201  0.98182467 0.9776169  0.98155903 0.98280055\n",
      " 0.97958092 0.95782928 0.841226   0.97916998 0.94227615 0.9860489\n",
      " 0.9922619  0.93353954 0.99743314 0.99194423 0.99168763 0.99124855\n",
      " 0.98750673 0.94755692 0.98883762 0.90827768 0.9803061  0.94368874\n",
      " 0.96898435 0.99048624 0.98935611 0.95650181 0.9694491  0.86069378\n",
      " 0.98045436 0.97158695 0.98718288 0.98305872 0.97766927 0.97155984\n",
      " 0.71101279 0.96990379 0.92736346 0.97698424 0.95037618 0.98638826\n",
      " 0.980895   0.99143838 0.99440883 0.97283867 0.89877888 0.94347799\n",
      " 0.99021738 0.99029943 0.97079666 0.98928489 0.95685228 0.90588136\n",
      " 0.98381998 0.9627299  0.98960466 0.98845013 0.85834659 0.98734941\n",
      " 0.99233402 0.85519078 0.95817207 0.9722492  0.9754745  0.98943691\n",
      " 0.81321699 0.98628602 0.92652198 0.97904976 0.93957025 0.95072033\n",
      " 0.98488767 0.98563196 0.98232245 0.88092291 0.88077677 0.98748702\n",
      " 0.98779964 0.9814743  0.9790782  0.93149279 0.96471735 0.98521418\n",
      " 0.98221941 0.98119749 0.99108061 0.99684995 0.99246817 0.96008696\n",
      " 0.8847125  0.92682951 0.99227107 0.98892741 0.970687   0.96389954\n",
      " 0.9741683  0.95236078 0.99469846 0.98621805 0.99166604 0.99046275\n",
      " 0.90100183 0.97793594 0.99715988 0.89165393 0.92838574 0.98773754\n",
      " 0.98480086 0.93600817 0.99315384 0.98414976 0.95462679 0.82106938\n",
      " 0.99159827 0.97666914 0.99047564 0.97516497 0.9893741  0.98701666\n",
      " 0.83516967 0.91982677 0.9502182  0.98672955 0.79859173 0.92141169\n",
      " 0.98866633 0.98709    0.98680653 0.95528275 0.9897522  0.9887262\n",
      " 0.99246308 0.95554647 0.99046939 0.91890314 0.98775427 0.96753069\n",
      " 0.84708391 0.97182319 0.98616035 0.96979749 0.98269978 0.97766577\n",
      " 0.88703279 0.96503206 0.94063962 0.98699144 0.97130172 0.9546842\n",
      " 0.89171428 0.88830928 0.96319941 0.98622289 0.96769629 0.99365977\n",
      " 0.98708874 0.92575491 0.97464237 0.97034055 0.98818162 0.91130451\n",
      " 0.97916655 0.97091243 0.97556183 0.99020691 0.97504328 0.90336653\n",
      " 0.99602421 0.91479894 0.97156829 0.9897039  0.98596345 0.91141388\n",
      " 0.98363594 0.99089514]\n"
     ]
    }
   ],
   "source": [
    "print(ab_distance.max(axis=1))\n",
    "print(normal_distance.max(axis=1))"
   ]
  },
  {
   "cell_type": "code",
   "execution_count": 42,
   "metadata": {},
   "outputs": [
    {
     "name": "stdout",
     "output_type": "stream",
     "text": [
      "0.9582080853878544\n",
      "0.9606033927091089\n"
     ]
    }
   ],
   "source": [
    "print(ab_distance.max(axis=1).mean())\n",
    "print(normal_distance.max(axis=1).mean())"
   ]
  },
  {
   "cell_type": "code",
   "execution_count": 43,
   "metadata": {},
   "outputs": [
    {
     "name": "stdout",
     "output_type": "stream",
     "text": [
      "1400\n"
     ]
    }
   ],
   "source": [
    "print(len(ab_distance[0]))"
   ]
  },
  {
   "cell_type": "code",
   "execution_count": 44,
   "metadata": {},
   "outputs": [
    {
     "data": {
      "image/png": "[encoded data removed]",
      "text/plain": [
       "<Figure size 2160x720 with 2 Axes>"
      ]
     },
     "metadata": {},
     "output_type": "display_data"
    }
   ],
   "source": [
    "import matplotlib.pylab as plt \n",
    "plt.subplot(211)\n",
    "plt.hist(ab_distance.max(axis=1),rwidth=0.7)\n",
    "plt.xlabel(\"abdata\")\n",
    "plt.subplot(212)\n",
    "plt.hist(normal_distance.max(axis=1),rwidth=0.7)\n",
    "plt.xlabel(\"normal_data\")\n",
    "plt.show()"
   ]
  },
  {
   "cell_type": "code",
   "execution_count": 45,
   "metadata": {},
   "outputs": [
    {
     "data": {
      "text/plain": [
       "array([ 0.01714719,  0.58868174,  0.9466627 , ...,  0.73995257,\n",
       "       -0.01258124, -0.10684055])"
      ]
     },
     "execution_count": 45,
     "metadata": {},
     "output_type": "execute_result"
    }
   ],
   "source": [
    "ab_distance[0]"
   ]
  },
  {
   "cell_type": "code",
   "execution_count": 46,
   "metadata": {},
   "outputs": [
    {
     "name": "stdout",
     "output_type": "stream",
     "text": [
      "320000 \n",
      "\n",
      "32000\n"
     ]
    }
   ],
   "source": [
    "import librosa\n",
    "y, sr = librosa.load(r'C:\\Users\\ztttx\\Desktop\\workspace\\file\\noise_detect\\train\\1-0.wav', sr = None)\n",
    "print(len(y),'\\n')\n",
    "print(sr)"
   ]
  },
  {
   "cell_type": "code",
   "execution_count": null,
   "metadata": {},
   "outputs": [],
   "source": []
  }
 ],
 "metadata": {
  "interpreter": {
   "hash": "c0c2945573aa59c6a6573181f2c456b961af40bf85fd5f702d7d7d22d6c12cb8"
  },
  "kernelspec": {
   "display_name": "Python 3.6.13 64-bit ('noise_detect': conda)",
   "name": "python3"
  },
  "language_info": {
   "codemirror_mode": {
    "name": "ipython",
    "version": 3
   },
   "file_extension": ".py",
   "mimetype": "text/x-python",
   "name": "python",
   "nbconvert_exporter": "python",
   "pygments_lexer": "ipython3",
   "version": "3.6.13"
  },
  "orig_nbformat": 4
 },
 "nbformat": 4,
 "nbformat_minor": 2
}
