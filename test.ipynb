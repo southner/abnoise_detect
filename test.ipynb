{
 "cells": [
  {
   "cell_type": "code",
   "execution_count": 17,
   "metadata": {},
   "outputs": [],
   "source": [
    "import os\n",
    "import glob\n",
    "import sys\n",
    "import common as com\n",
    "import numpy\n",
    "import tqdm\n",
    "import sklearn\n",
    "import torch\n",
    "from train import list_to_vector_array\n",
    "from train import file_list_generator\n",
    "from train import AutoEncoder\n",
    "from train import fetch_dataloaders\n",
    "import torch.nn as nn"
   ]
  },
  {
   "cell_type": "code",
   "execution_count": 18,
   "metadata": {},
   "outputs": [],
   "source": [
    "########################################################################\n",
    "# visualizer\n",
    "########################################################################\n",
    "class Visualizer(object):\n",
    "    def __init__(self):\n",
    "        import matplotlib.pyplot as plt\n",
    "        self.plt = plt\n",
    "        self.fig = self.plt.figure(figsize=(30, 10))\n",
    "        self.plt.subplots_adjust(wspace=0.3, hspace=0.3)\n",
    "\n",
    "    def loss_plot(self, loss):\n",
    "        \"\"\"\n",
    "        Plot loss curve.\n",
    "        loss : list [ float ]\n",
    "            training loss time series.\n",
    "        val_loss : list [ float ]\n",
    "            validation loss time series.\n",
    "        return   : None\n",
    "        \"\"\"\n",
    "        ax = self.fig.add_subplot(1, 1, 1)\n",
    "        ax.cla()\n",
    "        ax.plot(loss)\n",
    "        #设置y轴范围\n",
    "        #self.plt.ylim(-5,100)\n",
    "        ax.set_title(\"batch loss\")\n",
    "        ax.set_xlabel(\"batch\")\n",
    "        ax.set_ylabel(\"Loss\")\n",
    "        ax.legend([\"Train\", \"Validation\"], loc=\"upper right\")\n",
    "\n",
    "    def save_figure(self, name):\n",
    "        \"\"\"\n",
    "        Save figure.\n",
    "        name : str\n",
    "            save png file path.\n",
    "        return : None\n",
    "        \"\"\"\n",
    "        self.plt.savefig(name)\n",
    "\n",
    "\n",
    "########################################################################\n"
   ]
  },
  {
   "cell_type": "code",
   "execution_count": 21,
   "metadata": {},
   "outputs": [
    {
     "name": "stderr",
     "output_type": "stream",
     "text": [
      "2021-10-21 15:42:59,854 - INFO - target_dir : ../file/noise_detect\n",
      "2021-10-21 15:42:59,856 - INFO - train_file num : 200\n",
      "2021-10-21 15:42:59,857 - INFO - files num 200\n",
      "generate train_dataset: 100%|██████████| 200/200 [00:03<00:00, 52.35it/s]\n",
      "2021-10-21 15:43:03,691 - INFO - train_data num 11800\n",
      "2021-10-21 15:43:07,284 - INFO - target_dir : ../file/noise_detect\n",
      "2021-10-21 15:43:07,285 - INFO - train_file num : 4\n",
      "2021-10-21 15:43:07,287 - INFO - files num 4\n",
      "generate train_dataset: 100%|██████████| 4/4 [00:00<00:00, 55.95it/s]\n",
      "2021-10-21 15:43:07,361 - INFO - test/abnormal_data num 236\n",
      "2021-10-21 15:43:07,432 - INFO - target_dir : ../file/noise_detect\n",
      "2021-10-21 15:43:07,435 - INFO - train_file num : 44\n",
      "2021-10-21 15:43:07,435 - INFO - files num 44\n",
      "generate train_dataset: 100%|██████████| 44/44 [00:00<00:00, 57.01it/s]\n",
      "2021-10-21 15:43:08,214 - INFO - test/normal_data num 2596\n"
     ]
    }
   ],
   "source": [
    "param = com.yaml_load()\n",
    "def test(dir,save):\n",
    "    ab_files = file_list_generator(param[\"ab_dictionary\"], dir_name=dir)\n",
    "    com.logger.info('files num {num}'.format(num=len(ab_files)))\n",
    "    ab_data = list_to_vector_array(ab_files,\n",
    "                                      msg=\"generate train_dataset\",\n",
    "                                      n_mels=param[\"feature\"][\"n_mels\"],\n",
    "                                      frames=param[\"feature\"][\"frames\"],\n",
    "                                      n_fft=param[\"feature\"][\"n_fft\"],\n",
    "                                      hop_length=param[\"feature\"][\"hop_length\"],\n",
    "                                      power=param[\"feature\"][\"power\"])\n",
    "    ab_data = torch.Tensor(ab_data)\n",
    "    com.logger.info('{dic}_data num {num}'.format(dic=dir,num=len(ab_data)))\n",
    "    ab_loader = torch.utils.data.DataLoader(dataset=ab_data, batch_size=param[\"test_batch_size\"], shuffle=True)\n",
    "    model = torch.load(param[\"model_file\"])\n",
    "    loss_func = nn.MSELoss()\n",
    "    features = []\n",
    "    losses = []\n",
    "    for data in ab_loader:\n",
    "        inumpyuts = data\n",
    "        feature, y = model(inumpyuts)\n",
    "        loss = loss_func(y, inumpyuts)\n",
    "        for one_feature in feature:\n",
    "            features.append(list(one_feature))\n",
    "        losses.append(loss)\n",
    "    #numpy.save('feature/'+save,numpy.array(features))\n",
    "    return features,losses\n",
    "\n",
    "feature,feature_loss = test('train','feature')\n",
    "ab_feature,ab_loss = test('test/abnormal','abnormal_feature')\n",
    "normal_feature,normal_loss = test('test/normal','normal_feature')\n"
   ]
  },
  {
   "cell_type": "code",
   "execution_count": 23,
   "metadata": {},
   "outputs": [
    {
     "name": "stderr",
     "output_type": "stream",
     "text": [
      "C:\\ZTTTX\\Programing\\Anaconda\\envs\\noise_detect\\lib\\site-packages\\ipykernel_launcher.py:20: MatplotlibDeprecationWarning: Adding an axes using the same arguments as a previous axes currently reuses the earlier instance.  In a future version, a new instance will always be created and returned.  Meanwhile, this warning can be suppressed, and the future behavior ensured, by passing a unique label to each axes instance.\n"
     ]
    },
    {
     "name": "stdout",
     "output_type": "stream",
     "text": [
      "82\n"
     ]
    }
   ],
   "source": [
    "visualizer = Visualizer()\n",
    "visualizer.loss_plot(feature_loss)\n",
    "visualizer.save_figure(r'pic/test/'+\"debug_tag{}_\".format(str(param[\"debug_tag\"]))+'feature_loss.png')\n",
    "visualizer.loss_plot(ab_loss)\n",
    "visualizer.save_figure(r'pic/test/'+\"debug_tag{}_\".format(str(param[\"debug_tag\"]))+'ab_loss.png')\n",
    "visualizer.loss_plot(normal_loss)\n",
    "visualizer.save_figure(r'pic/test/'+\"debug_tag{}_\".format(str(param[\"debug_tag\"]))+'normal_loss.png')\n",
    "print(len(normal_loss))"
   ]
  },
  {
   "cell_type": "code",
   "execution_count": 71,
   "metadata": {},
   "outputs": [],
   "source": [
    "# # 目前想法把train_feature,ab_feature,normal_feature同时降维观察\n",
    "# import numpy as numpy\n",
    "# import matplotlib.pyplot as plt\n",
    "# from sklearn.manifold import TSNE\n",
    "\n",
    "# def plot_embedding(data, label, title):\n",
    "#     x_min, x_max = numpy.min(data, 0), numpy.max(data, 0)\n",
    "#     data = (data - x_min) / (x_max - x_min)\n",
    "#     colors = {0:'r',1:'b'}\n",
    "#     fig = plt.figure()\n",
    "#     ax = plt.subplot(111)\n",
    "#     for i in range(data.shape[0]):\n",
    "#         plt.text(data[i, 0], data[i, 1], '.',\n",
    "#                  color=colors[int(label[i])],\n",
    "#                  fontdict={'weight': 'bold', 'size': 9})\n",
    "#     plt.xticks([])\n",
    "#     plt.yticks([])\n",
    "#     plt.title(title)\n",
    "#     return fig\n",
    "\n",
    "# tsne = TSNE(n_components=2, init='pca', random_state=0)\n",
    "\n",
    "\n"
   ]
  },
  {
   "cell_type": "code",
   "execution_count": 72,
   "metadata": {},
   "outputs": [],
   "source": []
  },
  {
   "cell_type": "code",
   "execution_count": 73,
   "metadata": {},
   "outputs": [
    {
     "data": {
      "image/png": "[encoded data removed]",
      "text/plain": [
       "<Figure size 432x288 with 1 Axes>"
      ]
     },
     "metadata": {},
     "output_type": "display_data"
    }
   ],
   "source": [
    "#部分降维\n",
    "# zero = torch.zeros(len(ab_feature))\n",
    "# one = torch.ones(len(normal_feature))\n",
    "# label = torch.cat((zero,one),0)\n",
    "# feature = ab_feature + normal_feature\n",
    "# print(len(feature))\n",
    "# print(len(label))\n",
    "# result = tsne.fit_transform(feature[:5000])\n",
    "# fig = plot_embedding(result[:5000], label[:5000],'distribution')\n",
    "# plt.show(fig)"
   ]
  },
  {
   "cell_type": "code",
   "execution_count": 74,
   "metadata": {},
   "outputs": [],
   "source": [
    "# result = tsne.fit_transform(feature)"
   ]
  },
  {
   "cell_type": "code",
   "execution_count": 75,
   "metadata": {},
   "outputs": [
    {
     "ename": "IndexError",
     "evalue": "index 5856 is out of bounds for dimension 0 with size 5856",
     "output_type": "error",
     "traceback": [
      "\u001b[1;31m---------------------------------------------------------------------------\u001b[0m",
      "\u001b[1;31mIndexError\u001b[0m                                Traceback (most recent call last)",
      "\u001b[1;32m<ipython-input-75-566532bdc3b0>\u001b[0m in \u001b[0;36m<module>\u001b[1;34m()\u001b[0m\n\u001b[1;32m----> 1\u001b[1;33m \u001b[0mfig\u001b[0m \u001b[1;33m=\u001b[0m \u001b[0mplot_embedding\u001b[0m\u001b[1;33m(\u001b[0m\u001b[0mresult\u001b[0m\u001b[1;33m,\u001b[0m \u001b[0mlabel\u001b[0m\u001b[1;33m,\u001b[0m\u001b[1;34m'distribution'\u001b[0m\u001b[1;33m)\u001b[0m\u001b[1;33m\u001b[0m\u001b[1;33m\u001b[0m\u001b[0m\n\u001b[0m\u001b[0;32m      2\u001b[0m \u001b[0mplt\u001b[0m\u001b[1;33m.\u001b[0m\u001b[0msavefig\u001b[0m\u001b[1;33m(\u001b[0m\u001b[1;34m'distribution_all.png'\u001b[0m\u001b[1;33m)\u001b[0m\u001b[1;33m\u001b[0m\u001b[1;33m\u001b[0m\u001b[0m\n\u001b[0;32m      3\u001b[0m \u001b[0mplt\u001b[0m\u001b[1;33m.\u001b[0m\u001b[0mshow\u001b[0m\u001b[1;33m(\u001b[0m\u001b[0mfig\u001b[0m\u001b[1;33m)\u001b[0m\u001b[1;33m\u001b[0m\u001b[1;33m\u001b[0m\u001b[0m\n",
      "\u001b[1;32m<ipython-input-71-0412afa38b39>\u001b[0m in \u001b[0;36mplot_embedding\u001b[1;34m(data, label, title)\u001b[0m\n\u001b[0;32m     11\u001b[0m     \u001b[1;32mfor\u001b[0m \u001b[0mi\u001b[0m \u001b[1;32min\u001b[0m \u001b[0mrange\u001b[0m\u001b[1;33m(\u001b[0m\u001b[0mdata\u001b[0m\u001b[1;33m.\u001b[0m\u001b[0mshape\u001b[0m\u001b[1;33m[\u001b[0m\u001b[1;36m0\u001b[0m\u001b[1;33m]\u001b[0m\u001b[1;33m)\u001b[0m\u001b[1;33m:\u001b[0m\u001b[1;33m\u001b[0m\u001b[1;33m\u001b[0m\u001b[0m\n\u001b[0;32m     12\u001b[0m         plt.text(data[i, 0], data[i, 1], '.',\n\u001b[1;32m---> 13\u001b[1;33m                  \u001b[0mcolor\u001b[0m\u001b[1;33m=\u001b[0m\u001b[0mcolors\u001b[0m\u001b[1;33m[\u001b[0m\u001b[0mint\u001b[0m\u001b[1;33m(\u001b[0m\u001b[0mlabel\u001b[0m\u001b[1;33m[\u001b[0m\u001b[0mi\u001b[0m\u001b[1;33m]\u001b[0m\u001b[1;33m)\u001b[0m\u001b[1;33m]\u001b[0m\u001b[1;33m,\u001b[0m\u001b[1;33m\u001b[0m\u001b[1;33m\u001b[0m\u001b[0m\n\u001b[0m\u001b[0;32m     14\u001b[0m                  fontdict={'weight': 'bold', 'size': 9})\n\u001b[0;32m     15\u001b[0m     \u001b[0mplt\u001b[0m\u001b[1;33m.\u001b[0m\u001b[0mxticks\u001b[0m\u001b[1;33m(\u001b[0m\u001b[1;33m[\u001b[0m\u001b[1;33m]\u001b[0m\u001b[1;33m)\u001b[0m\u001b[1;33m\u001b[0m\u001b[1;33m\u001b[0m\u001b[0m\n",
      "\u001b[1;31mIndexError\u001b[0m: index 5856 is out of bounds for dimension 0 with size 5856"
     ]
    }
   ],
   "source": [
    "# fig = plot_embedding(result, label,'distribution')\n",
    "# plt.savefig('distribution_all.png')\n",
    "# plt.show(fig)"
   ]
  },
  {
   "cell_type": "code",
   "execution_count": null,
   "metadata": {},
   "outputs": [
    {
     "data": {
      "image/png": "[encoded data removed]",
      "text/plain": [
       "<Figure size 432x288 with 1 Axes>"
      ]
     },
     "metadata": {},
     "output_type": "display_data"
    }
   ],
   "source": [
    "# fig = plot_embedding(result[:5000], label[:5000],'distribution')\n",
    "# plt.savefig('distribution_all_5000.png')\n",
    "# plt.show(fig)"
   ]
  },
  {
   "cell_type": "code",
   "execution_count": 62,
   "metadata": {},
   "outputs": [],
   "source": [
    "def cosine_distance(matrix1,matrix2):\n",
    "    matrix1_matrix2 = numpy.dot(matrix1, matrix2.transpose())\n",
    "    matrix1_norm = numpy.sqrt(numpy.multiply(matrix1, matrix1).sum(axis=1))\n",
    "    matrix1_norm = matrix1_norm[:, numpy.newaxis]\n",
    "    matrix2_norm = numpy.sqrt(numpy.multiply(matrix2, matrix2).sum(axis=1))\n",
    "    matrix2_norm = matrix2_norm[:, numpy.newaxis]\n",
    "    cosine_distance = numpy.divide(matrix1_matrix2, numpy.dot(matrix1_norm, matrix2_norm.transpose()))\n",
    "    return cosine_distance"
   ]
  },
  {
   "cell_type": "code",
   "execution_count": 63,
   "metadata": {},
   "outputs": [],
   "source": [
    "feature = numpy.array(feature,dtype='float64')\n",
    "ab_feature = numpy.array(ab_feature,dtype='float64')\n",
    "normal_feature = numpy.array(normal_feature,dtype='float64')\n",
    "ab_distance = cosine_distance(ab_feature,feature)\n",
    "normal_distance = cosine_distance(normal_feature,feature)"
   ]
  },
  {
   "cell_type": "code",
   "execution_count": 64,
   "metadata": {},
   "outputs": [
    {
     "name": "stdout",
     "output_type": "stream",
     "text": [
      "(24400, 32)\n",
      "(5368, 32)\n",
      "(488, 32)\n",
      "(488, 24400)\n",
      "(5368, 24400)\n"
     ]
    }
   ],
   "source": [
    "print(feature.shape)\n",
    "print(normal_feature.shape)\n",
    "print(ab_feature.shape)\n",
    "\n",
    "print(ab_distance.shape)\n",
    "print(normal_distance.shape)"
   ]
  },
  {
   "cell_type": "code",
   "execution_count": 58,
   "metadata": {},
   "outputs": [
    {
     "name": "stdout",
     "output_type": "stream",
     "text": [
      "[  0   1   2   3   4   5   6   7   8   9  10  11  12  13  14  15  16  17\n",
      "  18  19  20  21  22  23  24  25  26  27  28  29  30  31  32  33  34  35\n",
      "  36  37  38  39  40  41  42  43  44  45  46  47  48  49  50  51  52  53\n",
      "  54  55  56  57  58  59  60  61  62  63  64  65  66  67  68  69  70  71\n",
      "  72  73  74  75  76  77  78  79  80  81  82  83  84  85  86  87  88  89\n",
      "  90  91  92  93  94  95  96  97  98  99 100 101 102 103 104 105 106 107\n",
      " 108 109 110 111 112 113 114 115 116 117 118 119 120 121 122 123 124 125\n",
      " 126 127 128 129 130 131 132 133 134 135 136 137 138 139 140 141 142 143\n",
      " 144 145 146 147 148 149 150 151 152 153 154 155 156 157 158 159 160 161\n",
      " 162 163 164 165 166 167 168 169 170 171 172 173 174 175 176 177 178 179\n",
      " 180 181 182 183 184 185 186 187 188 189 190 191 192 193 194 195 196 197\n",
      " 198 199 200 201 202 203 204 205 206 207 208 209 210 211 212 213 214 215\n",
      " 216 217 218 219 220 221 222 223 224 225 226 227 228 229 230 231 232 233\n",
      " 234 235 236 237 238 239 240 241 242 243 244 245 246 247 248 249 250 251\n",
      " 252 253 254 255 256 257 258 259 260 261 262 263 264 265 266 267 268 269\n",
      " 270 271 272 273 274 275 276 277 278 279 280 281 282 283 284 285 286 287\n",
      " 288 289 290 291 292 293 294 295 296 297 298 299 300 301 302 303 304 305\n",
      " 306 307 308 309 310 311 312 313 314 315 316 317 318 319 320 321 322 323\n",
      " 324 325 326 327 328 329 330 331 332 333 334 335 336 337 338 339 340 341\n",
      " 342 343 344 345 346 347 348 349 350 351 352 353 354 355 356 357 358 359\n",
      " 360 361 362 363 364 365 366 367 368 369 370 371 372 373 374 375 376 377\n",
      " 378 379 380 381 382 383 384 385 386 387 388 389 390 391 392 393 394 395\n",
      " 396 397 398 399 400 401 402 403 404 405 406 407 408 409 410 411 412 413\n",
      " 414 415 416 417 418 419 420 421 422 423 424 425 426 427 428 429 430 431\n",
      " 432 433 434 435 436 437 438 439 440 441 442 443 444 445 446 447 448 449\n",
      " 450 451 452 453 454 455 456 457 458 459 460 461 462 463 464 465 466 467\n",
      " 468 469 470 471 472 473 474 475 476 477 478 479 480 481 482 483 484 485\n",
      " 486 487]\n",
      "[ 488  489  490 ... 5853 5854 5855]\n"
     ]
    }
   ],
   "source": [
    "print(ab_distance.argmax(axis=1))\n",
    "print(normal_distance.argmax(axis=1))"
   ]
  },
  {
   "cell_type": "code",
   "execution_count": 20,
   "metadata": {},
   "outputs": [],
   "source": [
    "part_feature = numpy.array(feature[:100],dtype='float64')\n",
    "part_ab_feature = numpy.array(ab_feature[:100],dtype='float64')\n",
    "part_normal_feature = numpy.array(normal_feature[:100],dtype='float64')\n",
    "part_ab_distance = cosine_distance(part_ab_feature,numpy.array(part_feature,dtype='float64'))\n",
    "part_normal_distance = cosine_distance(part_normal_feature,numpy.array(part_feature,dtype='float64'))\n",
    "\n"
   ]
  },
  {
   "cell_type": "code",
   "execution_count": 21,
   "metadata": {},
   "outputs": [],
   "source": [
    "numpy.save('distance/cos/ab_data',ab_distance.max(axis=1))\n",
    "numpy.save('distance/cos/normal_data',normal_distance.max(axis=1))"
   ]
  },
  {
   "cell_type": "code",
   "execution_count": 67,
   "metadata": {},
   "outputs": [
    {
     "name": "stdout",
     "output_type": "stream",
     "text": [
      "[0.99273891 0.99560726 0.99514249 0.97242391 0.97003356 0.99319041\n",
      " 0.99523092 0.98638263 0.98931742 0.99670712 0.98890144 0.99793694\n",
      " 0.94077022 0.9985852  0.99702786 0.99118621 0.99375538 0.99670205\n",
      " 0.99460537 0.94749481 0.99579943 0.99881002 0.99785474 0.99394829\n",
      " 0.9919012  0.98890357 0.9980543  0.99597191 0.99786864 0.9735407\n",
      " 0.99047389 0.95485565 0.99613073 0.99737995 0.99411047 0.99797474\n",
      " 0.99374269 0.99150972 0.93680052 0.99829767 0.98758867 0.97049004\n",
      " 0.99836602 0.99486164 0.99815355 0.99826491 0.95565709 0.98125034\n",
      " 0.99642529 0.97091545 0.99877885 0.99872367 0.96561794 0.9954616\n",
      " 0.98432312 0.99361506 0.95822037 0.99649282 0.9927918  0.9922333\n",
      " 0.99761639 0.99804157 0.99891205 0.99321393 0.97925195 0.97518746\n",
      " 0.99499331 0.99263039 0.9877639  0.99604511 0.98949352 0.9968697\n",
      " 0.96390486 0.98601483 0.98375784 0.9969089  0.98463142 0.95568425\n",
      " 0.91872241 0.92154492 0.99480255 0.99737262 0.9913797  0.99796272\n",
      " 0.98846902 0.99466953 0.97658163 0.99079584 0.97248465 0.99539296\n",
      " 0.99743952 0.9965311  0.98531595 0.99472266 0.98291583 0.99459063\n",
      " 0.98307279 0.9964735  0.99902787 0.99021688 0.9937793  0.99765428\n",
      " 0.9894418  0.99204996 0.99620871 0.99883251 0.99523877 0.99014564\n",
      " 0.99117113 0.99415655 0.99278572 0.99403606 0.99533787 0.96919111\n",
      " 0.98529782 0.97284168 0.99863708 0.98932585 0.99139207 0.9951152\n",
      " 0.99425497 0.9848496  0.99789501 0.99562044 0.99857627 0.98251375\n",
      " 0.9947683  0.98986387 0.9892521  0.99762615 0.99807933 0.99408943\n",
      " 0.99405183 0.99257656 0.99121686 0.9883312  0.97994699 0.97687793\n",
      " 0.99771459 0.96562569 0.99563167 0.98902008 0.94034643 0.97650044\n",
      " 0.9950354  0.97982951 0.92467073 0.97838442 0.99881971 0.95802003\n",
      " 0.99856585 0.99892211 0.98525053 0.9979226  0.99665998 0.99737198\n",
      " 0.99454778 0.96033314 0.99163371 0.99332991 0.99664946 0.96922832\n",
      " 0.99172709 0.98236463 0.99231487 0.99193429 0.99640982 0.99849123\n",
      " 0.99381444 0.97796718 0.99325757 0.99236259 0.99047471 0.99662826\n",
      " 0.99859619 0.99689675 0.99063296 0.99548777 0.9965246  0.99588748\n",
      " 0.98192527 0.99273376 0.94383568 0.99697268 0.98030218 0.97693769\n",
      " 0.93318505 0.98836295 0.99836483 0.99510795 0.99631213 0.98619145\n",
      " 0.94899613 0.98129723 0.95394256 0.99692485 0.99260317 0.9898484\n",
      " 0.99461332 0.99583614 0.99850842 0.99066434 0.98976733 0.99802035\n",
      " 0.98451902 0.99836556 0.99804327 0.97820075 0.94922585 0.99646141\n",
      " 0.99490777 0.99807801 0.99619597 0.99693292 0.9946584  0.9984282\n",
      " 0.95504664 0.99539756 0.99609811 0.99563213 0.99072535 0.98708347\n",
      " 0.99813005 0.99754437 0.9966381  0.98621509 0.99478679 0.99601299\n",
      " 0.99868674 0.99453844 0.99528961 0.93682073 0.99720467 0.99572407\n",
      " 0.99906366 0.97959241 0.99375184 0.99142995 0.99438083 0.99692072\n",
      " 0.9413215  0.99486277 0.98431043 0.97967161 0.99502754 0.99344766\n",
      " 0.99548618 0.99736586 0.9965747  0.99636617 0.99744244 0.98936124\n",
      " 0.98421837 0.99133508 0.99096533 0.92226144 0.99759906 0.95741593\n",
      " 0.99863975 0.97731471 0.94104692 0.98738199 0.97751603 0.98961604\n",
      " 0.99160328 0.99796825 0.99592296 0.97880336 0.99076945 0.95892487\n",
      " 0.98896746 0.98408589 0.98631119 0.98807062 0.97946289 0.99794792\n",
      " 0.99668881 0.99681155 0.99817838 0.99564304 0.99326918 0.99548431\n",
      " 0.99250568 0.99473922 0.98089869 0.99396    0.99570556 0.99831735\n",
      " 0.9707266  0.99269741 0.99372384 0.98231431 0.99040683 0.99092576\n",
      " 0.97733463 0.93145955 0.98431252 0.99526451 0.87517258 0.99396564\n",
      " 0.99760387 0.96826177 0.99721921 0.98479039 0.98496817 0.99598681\n",
      " 0.99098541 0.99521236 0.99700265 0.98353931 0.99592229 0.95382289\n",
      " 0.91427237 0.99097359 0.995478   0.99646123 0.98991746 0.99045302\n",
      " 0.94321526 0.99443395 0.98802466 0.95249984 0.95634331 0.93939094\n",
      " 0.97816053 0.98861821 0.93223421 0.99733347 0.99816261 0.98781899\n",
      " 0.99830467 0.99002648 0.99691706 0.99773048 0.99486882 0.95039957\n",
      " 0.98990056 0.99526165 0.9536841  0.9952397  0.99405707 0.98510134\n",
      " 0.99845863 0.98717766 0.99512683 0.99301976 0.99175259 0.9889486\n",
      " 0.95656836 0.98825814 0.98006096 0.99602461 0.99429736 0.98925571\n",
      " 0.9887495  0.98516725 0.99644015 0.98783066 0.96115661 0.98872466\n",
      " 0.99886101 0.98712701 0.98373758 0.9948704  0.99258107 0.99631695\n",
      " 0.99598393 0.98936556 0.98766824 0.92981215 0.99687516 0.99711833\n",
      " 0.99868886 0.98737634 0.9556334  0.99708713 0.9989877  0.99255489\n",
      " 0.99620105 0.98649247 0.98878565 0.98241745 0.99566556 0.98001142\n",
      " 0.95753656 0.99675131 0.99426598 0.99524621 0.97765519 0.99725093\n",
      " 0.99607253 0.99084824 0.99794498 0.99403338 0.99445102 0.99189537\n",
      " 0.98579603 0.99768765 0.95961119 0.98792638 0.99625115 0.99672\n",
      " 0.99706852 0.99594095 0.96213509 0.94338976 0.99067785 0.98904923\n",
      " 0.99846507 0.99395033 0.97047778 0.99584019 0.99790074 0.94962219\n",
      " 0.99143689 0.99438067 0.99134309 0.97311065 0.99083353 0.99669947\n",
      " 0.96730416 0.99074543 0.92584561 0.94325262 0.99149868 0.9975249\n",
      " 0.99219615 0.99510498 0.99134846 0.95121813 0.99040941 0.99213893\n",
      " 0.99426372 0.99718439 0.98397144 0.99115637 0.94501891 0.99351135\n",
      " 0.9680075  0.99849022 0.99816161 0.99736528 0.99258446 0.99832623\n",
      " 0.99672002 0.99705443 0.99260069 0.99607622 0.99858196 0.95435674\n",
      " 0.99743274 0.99318845 0.98690529 0.99315377 0.95618222 0.96555574\n",
      " 0.9969199  0.9965687  0.9937526  0.99550419 0.9969516  0.99898269\n",
      " 0.98300473 0.99833145 0.99428314 0.94548408 0.99095038 0.99755256\n",
      " 0.9949724  0.99868749 0.99521593 0.99661284 0.92195379 0.99332349\n",
      " 0.99893204 0.99847761 0.98948676 0.9669711  0.97351161 0.97421533\n",
      " 0.98406256 0.99445365 0.9969722  0.99573704 0.95024747 0.98911158\n",
      " 0.98250961 0.99368933]\n",
      "[0.99611007 0.99319454 0.97543159 ... 0.9813265  0.96522149 0.99576235]\n"
     ]
    }
   ],
   "source": [
    "print(ab_distance.max(axis=1))\n",
    "print(normal_distance.max(axis=1))"
   ]
  },
  {
   "cell_type": "code",
   "execution_count": 66,
   "metadata": {},
   "outputs": [
    {
     "name": "stdout",
     "output_type": "stream",
     "text": [
      "0.9862417424865559\n",
      "0.9873768082552262\n"
     ]
    }
   ],
   "source": [
    "print(ab_distance.max(axis=1).mean())\n",
    "print(normal_distance.max(axis=1).mean())"
   ]
  },
  {
   "cell_type": "code",
   "execution_count": 65,
   "metadata": {},
   "outputs": [
    {
     "data": {
      "image/png": "[encoded data removed]",
      "text/plain": [
       "<Figure size 432x288 with 2 Axes>"
      ]
     },
     "metadata": {},
     "output_type": "display_data"
    }
   ],
   "source": [
    "import matplotlib.pylab as plt \n",
    "plt.subplot(211)\n",
    "plt.hist(ab_distance.max(axis=1),rwidth=0.7)\n",
    "plt.xlabel(\"abdata\")\n",
    "plt.subplot(212)\n",
    "plt.hist(normal_distance.max(axis=1),rwidth=0.7)\n",
    "plt.xlabel(\"normal_data\")\n",
    "plt.show()"
   ]
  }
 ],
 "metadata": {
  "interpreter": {
   "hash": "c0c2945573aa59c6a6573181f2c456b961af40bf85fd5f702d7d7d22d6c12cb8"
  },
  "kernelspec": {
   "display_name": "Python 3.6.13 64-bit ('noise_detect': conda)",
   "name": "python3"
  },
  "language_info": {
   "codemirror_mode": {
    "name": "ipython",
    "version": 3
   },
   "file_extension": ".py",
   "mimetype": "text/x-python",
   "name": "python",
   "nbconvert_exporter": "python",
   "pygments_lexer": "ipython3",
   "version": "3.6.13"
  },
  "orig_nbformat": 4
 },
 "nbformat": 4,
 "nbformat_minor": 2
}
